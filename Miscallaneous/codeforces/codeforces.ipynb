{
 "cells": [
  {
   "cell_type": "code",
   "execution_count": 4,
   "id": "de44d8ee",
   "metadata": {},
   "outputs": [
    {
     "name": "stdout",
     "output_type": "stream",
     "text": [
      "1\n",
      "5\n",
      "10011\n",
      "---+\n"
     ]
    }
   ],
   "source": [
    "#1774A\n",
    "for x in range(0, int(input())):\n",
    "    input()\n",
    "    a = input()\n",
    "    sum = int(a[0])\n",
    "    for x in a[1:]:\n",
    "        if sum>0:\n",
    "            print('-', end='')\n",
    "            sum -= int(x)\n",
    "        else:\n",
    "            print('+', end='')\n",
    "            sum += int(x)\n",
    "    print('')"
   ]
  },
  {
   "cell_type": "code",
   "execution_count": null,
   "id": "9b1f6f68",
   "metadata": {},
   "outputs": [],
   "source": [
    "#1722C\n",
    "for x in range(0, int(input())):\n",
    "    input()\n",
    "    a = set(input().split(' '))\n",
    "    b = set(input().split(' '))\n",
    "    c = set(input().split(' '))\n",
    "    print(len(a)+2*len(a-(b|c))-len(a&b&c), len(b)+2*len(b-(a|c))-len(a&b&c), len(c)+2*len(c-(b|a))-len(a&b&c))"
   ]
  },
  {
   "cell_type": "code",
   "execution_count": null,
   "id": "d064193b",
   "metadata": {},
   "outputs": [
    {
     "ename": "",
     "evalue": "",
     "output_type": "error",
     "traceback": [
      "\u001b[1;31mRunning cells with 'c:\\msys64\\mingw64\\bin\\python.exe' requires ipykernel package.\n",
      "\u001b[1;31mRun the following command to install 'ipykernel' into the Python environment. \n",
      "\u001b[1;31mCommand: 'c:/msys64/mingw64/bin/python.exe -m pip install ipykernel -U --user --force-reinstall'"
     ]
    }
   ],
   "source": [
    "print(\"what are you doing mf\")"
   ]
  },
  {
   "cell_type": "code",
   "execution_count": null,
   "id": "f3f0a779",
   "metadata": {},
   "outputs": [],
   "source": []
  }
 ],
 "metadata": {
  "kernelspec": {
   "display_name": "Python 3",
   "language": "python",
   "name": "python3"
  },
  "language_info": {
   "codemirror_mode": {
    "name": "ipython",
    "version": 3
   },
   "file_extension": ".py",
   "mimetype": "text/x-python",
   "name": "python",
   "nbconvert_exporter": "python",
   "pygments_lexer": "ipython3",
   "version": "3.9.10 (main, Mar 14 2022, 18:37:07)  [GCC 11.2.0 64 bit (AMD64)]"
  },
  "vscode": {
   "interpreter": {
    "hash": "2a8dfe095fce2b5e88c64a2c3ee084c8e0e0d70b23e7b95b1cfb538be294c5c8"
   }
  }
 },
 "nbformat": 4,
 "nbformat_minor": 5
}
